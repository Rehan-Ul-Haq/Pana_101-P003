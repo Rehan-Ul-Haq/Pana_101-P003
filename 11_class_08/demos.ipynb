{
 "cells": [
  {
   "cell_type": "code",
   "execution_count": 8,
   "id": "ab1445ad",
   "metadata": {},
   "outputs": [
    {
     "name": "stdout",
     "output_type": "stream",
     "text": [
      "stored hash: 4101030704\n"
     ]
    }
   ],
   "source": [
    "def password_hash(text: str) -> int:\n",
    "    hash_value = 0\n",
    "\n",
    "    for char in text:\n",
    "        hash_value = (hash_value << 5) ^ ord(char) ^ (hash_value >> 3)\n",
    "    \n",
    "    return hash_value & 0xFFFFFFFF\n",
    "\n",
    "\n",
    "stored_hash = password_hash(\"rehan@125\") \n",
    "print(f\"stored hash: {stored_hash}\")\n"
   ]
  },
  {
   "cell_type": "code",
   "execution_count": 11,
   "id": "8985f69f",
   "metadata": {},
   "outputs": [
    {
     "name": "stdout",
     "output_type": "stream",
     "text": [
      "❌ Invalid password\n"
     ]
    }
   ],
   "source": [
    "\n",
    "def verify_password(input_pass: str, stored_hash) -> bool:\n",
    "    print(f\"✅ Valid password\") if password_hash(input_pass) == stored_hash else print(f\"❌ Invalid password\")\n",
    "\n",
    "verify_password(\"rehan@125 \", stored_hash)"
   ]
  },
  {
   "cell_type": "markdown",
   "id": "e9657767",
   "metadata": {},
   "source": [
    "# Bytes and Bytesarray Application\n"
   ]
  },
  {
   "cell_type": "code",
   "execution_count": 1,
   "id": "961a4686",
   "metadata": {},
   "outputs": [],
   "source": [
    "with open('original.txt', 'w') as f:\n",
    "    f.write('Hello, world!')"
   ]
  },
  {
   "cell_type": "code",
   "execution_count": 2,
   "id": "c556db35",
   "metadata": {},
   "outputs": [
    {
     "name": "stdout",
     "output_type": "stream",
     "text": [
      "b'Hello, world!'\n"
     ]
    }
   ],
   "source": [
    "with open('original.txt', 'rb') as f:\n",
    "    original_bytes = f.read()\n",
    "    print(original_bytes)"
   ]
  },
  {
   "cell_type": "code",
   "execution_count": 3,
   "id": "7b55b906",
   "metadata": {},
   "outputs": [
    {
     "name": "stdout",
     "output_type": "stream",
     "text": [
      "bytearray(b'Hello, world!')\n"
     ]
    }
   ],
   "source": [
    "mutable_bytes = bytearray(original_bytes)\n",
    "print(mutable_bytes)"
   ]
  },
  {
   "cell_type": "code",
   "execution_count": 4,
   "id": "c0f1002f",
   "metadata": {},
   "outputs": [
    {
     "name": "stdout",
     "output_type": "stream",
     "text": [
      "82\n",
      "bytearray(b'Rello, world!')\n"
     ]
    }
   ],
   "source": [
    "print(ord('R'))\n",
    "mutable_bytes[0] = 82\n",
    "\n",
    "print(mutable_bytes)"
   ]
  },
  {
   "cell_type": "code",
   "execution_count": 5,
   "id": "09a99c47",
   "metadata": {},
   "outputs": [
    {
     "name": "stdout",
     "output_type": "stream",
     "text": [
      "b'Rello, world!'\n"
     ]
    }
   ],
   "source": [
    "modified_bytes = bytes(mutable_bytes)\n",
    "print(modified_bytes)"
   ]
  },
  {
   "cell_type": "code",
   "execution_count": 6,
   "id": "427d6391",
   "metadata": {},
   "outputs": [],
   "source": [
    "with open('modified.txt', 'wb') as f:\n",
    "    f.write(modified_bytes)"
   ]
  },
  {
   "cell_type": "code",
   "execution_count": 7,
   "id": "566ef52f",
   "metadata": {},
   "outputs": [],
   "source": [
    "with open('original.bmp', 'rb') as f:\n",
    "    image_bytes = bytearray(f.read())\n",
    "    \n",
    "pixel_data_start = 54\n",
    "\n",
    "# Iterate through the pixel data in steps of 3 (BGR)\n",
    "for i in range(pixel_data_start, len(image_bytes), 3):\n",
    "    blue = image_bytes[i]\n",
    "    green = image_bytes[i+1]\n",
    "    red = image_bytes[i+2]\n",
    "    \n",
    "    # Calculate the average and update all three color channels\n",
    "    grayscale_value = int((blue + green + red) / 3)\n",
    "    \n",
    "    image_bytes[i] = grayscale_value\n",
    "    image_bytes[i+1] = grayscale_value\n",
    "    image_bytes[i+2] = grayscale_value\n",
    "\n",
    "with open('grayscale.bmp', 'wb') as f:\n",
    "    f.write(image_bytes)\n"
   ]
  }
 ],
 "metadata": {
  "kernelspec": {
   "display_name": "Python 3",
   "language": "python",
   "name": "python3"
  },
  "language_info": {
   "codemirror_mode": {
    "name": "ipython",
    "version": 3
   },
   "file_extension": ".py",
   "mimetype": "text/x-python",
   "name": "python",
   "nbconvert_exporter": "python",
   "pygments_lexer": "ipython3",
   "version": "3.13.5"
  }
 },
 "nbformat": 4,
 "nbformat_minor": 5
}
